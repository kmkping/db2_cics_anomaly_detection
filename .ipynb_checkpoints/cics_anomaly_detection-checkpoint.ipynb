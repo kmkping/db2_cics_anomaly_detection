{
 "cells": [
  {
   "cell_type": "code",
   "execution_count": 172,
   "metadata": {},
   "outputs": [],
   "source": [
    "import pandas as pd\n",
    "import numpy as np\n",
    "import matplotlib.pyplot as plt\n",
    "from sklearn.cluster import KMeans\n",
    "import numpy as np\n",
    "from mpl_toolkits.mplot3d import Axes3D\n",
    "from sklearn.preprocessing import StandardScaler\n",
    "from numpy import linalg as LA"
   ]
  },
  {
   "cell_type": "code",
   "execution_count": 173,
   "metadata": {},
   "outputs": [],
   "source": [
    "cics_df = pd.read_csv(\"datasets/cics_KPI_24hrs.csv\")"
   ]
  },
  {
   "cell_type": "code",
   "execution_count": 174,
   "metadata": {},
   "outputs": [
    {
     "data": {
      "text/plain": [
       "(288, 10)"
      ]
     },
     "execution_count": 174,
     "metadata": {},
     "output_type": "execute_result"
    }
   ],
   "source": [
    "cics_df.shape"
   ]
  },
  {
   "cell_type": "code",
   "execution_count": 175,
   "metadata": {},
   "outputs": [
    {
     "data": {
      "text/plain": [
       "Index(['SUMMTYPE', 'SCNAME', 'TRANID', 'ENDSTAMP', 'TOTALTRANS', 'MSRESPTIME',\n",
       "       'AVCPUTIME', 'ABTRANS', 'DB2WAIT', 'RDSPWAIT'],\n",
       "      dtype='object')"
      ]
     },
     "execution_count": 175,
     "metadata": {},
     "output_type": "execute_result"
    }
   ],
   "source": [
    "cics_df.columns"
   ]
  },
  {
   "cell_type": "code",
   "execution_count": 176,
   "metadata": {},
   "outputs": [],
   "source": [
    "cics_df.head(10)\n",
    "#drop SUMMTYPE, TRANID, SCNAME, ABTRANS\n",
    "cics_df = cics_df.drop([\"SUMMTYPE\", \"TRANID\", \"SCNAME\", \"ABTRANS\"], axis=1)\n",
    "cics_df = cics_df.dropna()"
   ]
  },
  {
   "cell_type": "code",
   "execution_count": 177,
   "metadata": {},
   "outputs": [
    {
     "data": {
      "text/html": [
       "<div>\n",
       "<style scoped>\n",
       "    .dataframe tbody tr th:only-of-type {\n",
       "        vertical-align: middle;\n",
       "    }\n",
       "\n",
       "    .dataframe tbody tr th {\n",
       "        vertical-align: top;\n",
       "    }\n",
       "\n",
       "    .dataframe thead th {\n",
       "        text-align: right;\n",
       "    }\n",
       "</style>\n",
       "<table border=\"1\" class=\"dataframe\">\n",
       "  <thead>\n",
       "    <tr style=\"text-align: right;\">\n",
       "      <th></th>\n",
       "      <th>ENDSTAMP</th>\n",
       "      <th>TOTALTRANS</th>\n",
       "      <th>MSRESPTIME</th>\n",
       "      <th>AVCPUTIME</th>\n",
       "      <th>DB2WAIT</th>\n",
       "      <th>RDSPWAIT</th>\n",
       "    </tr>\n",
       "  </thead>\n",
       "  <tbody>\n",
       "    <tr>\n",
       "      <th>0</th>\n",
       "      <td>Sep 23 2019 4:10:00 PM</td>\n",
       "      <td>98.0</td>\n",
       "      <td>0.067</td>\n",
       "      <td>0.034</td>\n",
       "      <td>56.0</td>\n",
       "      <td>11.0</td>\n",
       "    </tr>\n",
       "    <tr>\n",
       "      <th>1</th>\n",
       "      <td>Sep 23 2019 4:15:00 PM</td>\n",
       "      <td>76.0</td>\n",
       "      <td>0.039</td>\n",
       "      <td>0.026</td>\n",
       "      <td>58.0</td>\n",
       "      <td>2.0</td>\n",
       "    </tr>\n",
       "    <tr>\n",
       "      <th>2</th>\n",
       "      <td>Sep 23 2019 4:20:00 PM</td>\n",
       "      <td>46.0</td>\n",
       "      <td>0.039</td>\n",
       "      <td>0.027</td>\n",
       "      <td>57.0</td>\n",
       "      <td>4.0</td>\n",
       "    </tr>\n",
       "    <tr>\n",
       "      <th>3</th>\n",
       "      <td>Sep 23 2019 4:25:00 PM</td>\n",
       "      <td>104.0</td>\n",
       "      <td>0.034</td>\n",
       "      <td>0.022</td>\n",
       "      <td>64.0</td>\n",
       "      <td>4.0</td>\n",
       "    </tr>\n",
       "    <tr>\n",
       "      <th>4</th>\n",
       "      <td>Sep 23 2019 4:30:00 PM</td>\n",
       "      <td>15.0</td>\n",
       "      <td>0.032</td>\n",
       "      <td>0.023</td>\n",
       "      <td>61.0</td>\n",
       "      <td>6.0</td>\n",
       "    </tr>\n",
       "  </tbody>\n",
       "</table>\n",
       "</div>"
      ],
      "text/plain": [
       "                 ENDSTAMP  TOTALTRANS  MSRESPTIME  AVCPUTIME  DB2WAIT  \\\n",
       "0  Sep 23 2019 4:10:00 PM        98.0       0.067      0.034     56.0   \n",
       "1  Sep 23 2019 4:15:00 PM        76.0       0.039      0.026     58.0   \n",
       "2  Sep 23 2019 4:20:00 PM        46.0       0.039      0.027     57.0   \n",
       "3  Sep 23 2019 4:25:00 PM       104.0       0.034      0.022     64.0   \n",
       "4  Sep 23 2019 4:30:00 PM        15.0       0.032      0.023     61.0   \n",
       "\n",
       "   RDSPWAIT  \n",
       "0      11.0  \n",
       "1       2.0  \n",
       "2       4.0  \n",
       "3       4.0  \n",
       "4       6.0  "
      ]
     },
     "execution_count": 177,
     "metadata": {},
     "output_type": "execute_result"
    }
   ],
   "source": [
    "cics_df.head()"
   ]
  },
  {
   "cell_type": "code",
   "execution_count": 178,
   "metadata": {},
   "outputs": [
    {
     "data": {
      "text/html": [
       "<div>\n",
       "<style scoped>\n",
       "    .dataframe tbody tr th:only-of-type {\n",
       "        vertical-align: middle;\n",
       "    }\n",
       "\n",
       "    .dataframe tbody tr th {\n",
       "        vertical-align: top;\n",
       "    }\n",
       "\n",
       "    .dataframe thead th {\n",
       "        text-align: right;\n",
       "    }\n",
       "</style>\n",
       "<table border=\"1\" class=\"dataframe\">\n",
       "  <thead>\n",
       "    <tr style=\"text-align: right;\">\n",
       "      <th></th>\n",
       "      <th>ENDSTAMP</th>\n",
       "      <th>TOTALTRANS</th>\n",
       "      <th>MSRESPTIME</th>\n",
       "      <th>AVCPUTIME</th>\n",
       "      <th>DB2WAIT</th>\n",
       "      <th>RDSPWAIT</th>\n",
       "    </tr>\n",
       "  </thead>\n",
       "  <tbody>\n",
       "    <tr>\n",
       "      <th>count</th>\n",
       "      <td>199</td>\n",
       "      <td>199.000000</td>\n",
       "      <td>199.000000</td>\n",
       "      <td>199.000000</td>\n",
       "      <td>199.000000</td>\n",
       "      <td>199.000000</td>\n",
       "    </tr>\n",
       "    <tr>\n",
       "      <th>unique</th>\n",
       "      <td>199</td>\n",
       "      <td>NaN</td>\n",
       "      <td>NaN</td>\n",
       "      <td>NaN</td>\n",
       "      <td>NaN</td>\n",
       "      <td>NaN</td>\n",
       "    </tr>\n",
       "    <tr>\n",
       "      <th>top</th>\n",
       "      <td>Sep 24 2019 3:15:00 PM</td>\n",
       "      <td>NaN</td>\n",
       "      <td>NaN</td>\n",
       "      <td>NaN</td>\n",
       "      <td>NaN</td>\n",
       "      <td>NaN</td>\n",
       "    </tr>\n",
       "    <tr>\n",
       "      <th>freq</th>\n",
       "      <td>1</td>\n",
       "      <td>NaN</td>\n",
       "      <td>NaN</td>\n",
       "      <td>NaN</td>\n",
       "      <td>NaN</td>\n",
       "      <td>NaN</td>\n",
       "    </tr>\n",
       "    <tr>\n",
       "      <th>mean</th>\n",
       "      <td>NaN</td>\n",
       "      <td>75.582915</td>\n",
       "      <td>0.035980</td>\n",
       "      <td>0.021226</td>\n",
       "      <td>66.341709</td>\n",
       "      <td>5.251256</td>\n",
       "    </tr>\n",
       "    <tr>\n",
       "      <th>std</th>\n",
       "      <td>NaN</td>\n",
       "      <td>46.701307</td>\n",
       "      <td>0.047956</td>\n",
       "      <td>0.002031</td>\n",
       "      <td>5.977552</td>\n",
       "      <td>6.682344</td>\n",
       "    </tr>\n",
       "    <tr>\n",
       "      <th>min</th>\n",
       "      <td>NaN</td>\n",
       "      <td>12.000000</td>\n",
       "      <td>0.027000</td>\n",
       "      <td>0.019000</td>\n",
       "      <td>2.000000</td>\n",
       "      <td>2.000000</td>\n",
       "    </tr>\n",
       "    <tr>\n",
       "      <th>25%</th>\n",
       "      <td>NaN</td>\n",
       "      <td>45.500000</td>\n",
       "      <td>0.031000</td>\n",
       "      <td>0.020000</td>\n",
       "      <td>66.000000</td>\n",
       "      <td>4.000000</td>\n",
       "    </tr>\n",
       "    <tr>\n",
       "      <th>50%</th>\n",
       "      <td>NaN</td>\n",
       "      <td>74.000000</td>\n",
       "      <td>0.032000</td>\n",
       "      <td>0.021000</td>\n",
       "      <td>67.000000</td>\n",
       "      <td>5.000000</td>\n",
       "    </tr>\n",
       "    <tr>\n",
       "      <th>75%</th>\n",
       "      <td>NaN</td>\n",
       "      <td>104.000000</td>\n",
       "      <td>0.032000</td>\n",
       "      <td>0.022000</td>\n",
       "      <td>69.000000</td>\n",
       "      <td>5.000000</td>\n",
       "    </tr>\n",
       "    <tr>\n",
       "      <th>max</th>\n",
       "      <td>NaN</td>\n",
       "      <td>297.000000</td>\n",
       "      <td>0.706000</td>\n",
       "      <td>0.034000</td>\n",
       "      <td>73.000000</td>\n",
       "      <td>95.000000</td>\n",
       "    </tr>\n",
       "  </tbody>\n",
       "</table>\n",
       "</div>"
      ],
      "text/plain": [
       "                      ENDSTAMP  TOTALTRANS  MSRESPTIME   AVCPUTIME  \\\n",
       "count                      199  199.000000  199.000000  199.000000   \n",
       "unique                     199         NaN         NaN         NaN   \n",
       "top     Sep 24 2019 3:15:00 PM         NaN         NaN         NaN   \n",
       "freq                         1         NaN         NaN         NaN   \n",
       "mean                       NaN   75.582915    0.035980    0.021226   \n",
       "std                        NaN   46.701307    0.047956    0.002031   \n",
       "min                        NaN   12.000000    0.027000    0.019000   \n",
       "25%                        NaN   45.500000    0.031000    0.020000   \n",
       "50%                        NaN   74.000000    0.032000    0.021000   \n",
       "75%                        NaN  104.000000    0.032000    0.022000   \n",
       "max                        NaN  297.000000    0.706000    0.034000   \n",
       "\n",
       "           DB2WAIT    RDSPWAIT  \n",
       "count   199.000000  199.000000  \n",
       "unique         NaN         NaN  \n",
       "top            NaN         NaN  \n",
       "freq           NaN         NaN  \n",
       "mean     66.341709    5.251256  \n",
       "std       5.977552    6.682344  \n",
       "min       2.000000    2.000000  \n",
       "25%      66.000000    4.000000  \n",
       "50%      67.000000    5.000000  \n",
       "75%      69.000000    5.000000  \n",
       "max      73.000000   95.000000  "
      ]
     },
     "execution_count": 178,
     "metadata": {},
     "output_type": "execute_result"
    }
   ],
   "source": [
    "#it seems no outlier here\n",
    "cics_df.describe(include='all')"
   ]
  },
  {
   "cell_type": "code",
   "execution_count": 179,
   "metadata": {},
   "outputs": [],
   "source": [
    "cics_df['ENDSTAMP']=pd.to_datetime(cics_df['ENDSTAMP'])"
   ]
  },
  {
   "cell_type": "code",
   "execution_count": 180,
   "metadata": {},
   "outputs": [
    {
     "data": {
      "text/plain": [
       "Text(0.5, 1.0, 'Time series of CICS reponse time')"
      ]
     },
     "execution_count": 180,
     "metadata": {},
     "output_type": "execute_result"
    },
    {
     "data": {
      "image/png": "[encoded data removed]",
      "text/plain": [
       "<Figure size 864x432 with 1 Axes>"
      ]
     },
     "metadata": {
      "needs_background": "light"
     },
     "output_type": "display_data"
    }
   ],
   "source": [
    "cics_df.plot(x='ENDSTAMP', y='MSRESPTIME', figsize=(12,6))\n",
    "plt.xlabel('Time')\n",
    "plt.ylabel('Response Time')\n",
    "plt.title('Time series of CICS reponse time')"
   ]
  },
  {
   "cell_type": "code",
   "execution_count": 181,
   "metadata": {},
   "outputs": [
    {
     "name": "stdout",
     "output_type": "stream",
     "text": [
      "<class 'pandas.core.frame.DataFrame'>\n",
      "Int64Index: 199 entries, 0 to 287\n",
      "Data columns (total 6 columns):\n",
      "ENDSTAMP      199 non-null datetime64[ns]\n",
      "TOTALTRANS    199 non-null float64\n",
      "MSRESPTIME    199 non-null float64\n",
      "AVCPUTIME     199 non-null float64\n",
      "DB2WAIT       199 non-null float64\n",
      "RDSPWAIT      199 non-null float64\n",
      "dtypes: datetime64[ns](1), float64(5)\n",
      "memory usage: 10.9 KB\n"
     ]
    }
   ],
   "source": [
    "cics_df.info()"
   ]
  },
  {
   "cell_type": "code",
   "execution_count": 199,
   "metadata": {},
   "outputs": [],
   "source": [
    "#since this is unsupervised learning, I will try to use k-clustering\n",
    "data = cics_df[[\"TOTALTRANS\",\"MSRESPTIME\",\"AVCPUTIME\",\"DB2WAIT\",\"RDSPWAIT\"]]\n",
    "data = StandardScaler().fit_transform(data)\n",
    "\n",
    "n_clusters = range(1,20)\n",
    "kmeans=[]\n",
    "scores = []\n",
    "\n",
    "for i in n_clusters:\n",
    "    kmean=KMeans(n_clusters=i).fit(data)\n",
    "    kmeans.append(kmean)\n",
    "\n",
    "for i in range(len(kmeans)):\n",
    "    score = kmeans[i].score(data) \n",
    "    scores.append(score)"
   ]
  },
  {
   "cell_type": "code",
   "execution_count": 201,
   "metadata": {},
   "outputs": [
    {
     "data": {
      "text/plain": [
       "numpy.ndarray"
      ]
     },
     "execution_count": 201,
     "metadata": {},
     "output_type": "execute_result"
    }
   ],
   "source": []
  },
  {
   "cell_type": "code",
   "execution_count": 183,
   "metadata": {},
   "outputs": [
    {
     "data": {
      "image/png": "[encoded data removed]",
      "text/plain": [
       "<Figure size 720x432 with 1 Axes>"
      ]
     },
     "metadata": {
      "needs_background": "light"
     },
     "output_type": "display_data"
    }
   ],
   "source": [
    "fig, ax = plt.subplots(figsize=(10,6))\n",
    "ax.plot(n_clusters, scores)\n",
    "plt.xlabel('Number of Clusters')\n",
    "plt.ylabel('Score')\n",
    "plt.title('Elbow Curve')\n",
    "plt.show()"
   ]
  },
  {
   "cell_type": "code",
   "execution_count": 184,
   "metadata": {},
   "outputs": [],
   "source": [
    "#From the above elbow curve, we see that the graph levels off after \n",
    "#7 clusters, implying that addition of more clusters do not \n",
    "#explain much more of the variance in our relevant variable; \n",
    "#in this case price_usd."
   ]
  },
  {
   "cell_type": "code",
   "execution_count": 185,
   "metadata": {},
   "outputs": [],
   "source": [
    "#The underline assumption in the clustering based anomaly detection is that\n",
    "#if we cluster the data, normal data will belong to clusters while anomalies\n",
    "#will not belong to any clusters or belong to small clusters. We use the\n",
    "#following steps to find and visualize anomalies."
   ]
  },
  {
   "cell_type": "code",
   "execution_count": 197,
   "metadata": {},
   "outputs": [
    {
     "data": {
      "text/plain": [
       "array([[ 4.81220433e-01,  6.48482201e-01,  6.30499478e+00,\n",
       "        -1.73445429e+00,  8.62458195e-01],\n",
       "       [ 8.95344002e-03,  6.31358825e-02,  2.35631197e+00,\n",
       "        -1.39902533e+00, -4.87771374e-01],\n",
       "       [-6.35047005e-01,  6.31358825e-02,  2.84989732e+00,\n",
       "        -1.56673981e+00, -1.87720359e-01],\n",
       "       [ 6.10020522e-01, -4.13902458e-02,  3.81970573e-01,\n",
       "        -3.92738435e-01, -1.87720359e-01],\n",
       "       [-1.30051413e+00, -8.32006971e-02,  8.75555923e-01,\n",
       "        -8.95881881e-01,  1.12330657e-01],\n",
       "       [-6.77980368e-01, -6.22954714e-02,  3.81970573e-01,\n",
       "        -3.92738435e-01, -3.76948512e-02],\n",
       "       [-6.35047005e-01, -8.32006971e-02,  3.81970573e-01,\n",
       "        -2.25023953e-01, -3.76948512e-02],\n",
       "       [-6.35047005e-01, -8.32006971e-02,  3.81970573e-01,\n",
       "         4.45833975e-01, -3.37745867e-01],\n",
       "       [-1.27904745e+00, -8.32006971e-02,  8.75555923e-01,\n",
       "        -8.95881881e-01,  1.12330657e-01],\n",
       "       [ 1.16286847e-01, -8.32006971e-02, -1.11614778e-01,\n",
       "        -5.73094712e-02, -3.76948512e-02],\n",
       "       [-1.25758077e+00, -1.04105923e-01,  3.81970573e-01,\n",
       "        -7.28167399e-01, -3.37745867e-01],\n",
       "       [ 1.98388814e+00, -8.32006971e-02, -6.05200128e-01,\n",
       "         1.10405011e-01, -3.76948512e-02],\n",
       "       [-6.99447049e-01,  1.40069214e+01, -6.05200128e-01,\n",
       "        -1.07910363e+01,  1.34646008e+01],\n",
       "       [ 1.37753529e-01, -8.32006971e-02, -1.11614778e-01,\n",
       "         1.10405011e-01, -3.76948512e-02],\n",
       "       [ 5.24153796e-01, -8.32006971e-02, -6.05200128e-01,\n",
       "         1.10405011e-01, -3.76948512e-02],\n",
       "       [-1.25758077e+00, -6.22954714e-02,  8.75555923e-01,\n",
       "        -7.28167399e-01, -1.87720359e-01],\n",
       "       [-1.27904745e+00, -1.04105923e-01,  3.81970573e-01,\n",
       "        -5.73094712e-02, -3.37745867e-01],\n",
       "       [ 6.95887248e-01, -8.32006971e-02, -6.05200128e-01,\n",
       "         2.78119493e-01, -1.87720359e-01],\n",
       "       [ 9.48201660e-02, -8.32006971e-02, -1.11614778e-01,\n",
       "        -5.73094712e-02, -3.76948512e-02],\n",
       "       [ 8.95344002e-03, -8.32006971e-02, -6.05200128e-01,\n",
       "        -5.73094712e-02, -3.76948512e-02],\n",
       "       [-6.35047005e-01, -8.32006971e-02, -1.11614778e-01,\n",
       "        -2.25023953e-01,  1.12330657e-01],\n",
       "       [-3.55980145e-01, -8.32006971e-02, -6.05200128e-01,\n",
       "        -5.73094712e-02, -3.76948512e-02],\n",
       "       [-2.91580101e-01, -1.25011148e-01, -6.05200128e-01,\n",
       "         2.78119493e-01, -3.37745867e-01],\n",
       "       [-6.35047005e-01, -1.04105923e-01, -1.11614778e-01,\n",
       "         2.78119493e-01, -3.37745867e-01],\n",
       "       [-1.23611409e+00, -1.25011148e-01,  3.81970573e-01,\n",
       "        -5.73094712e-02, -1.87720359e-01],\n",
       "       [-1.25132415e-02, -6.22954714e-02, -1.11614778e-01,\n",
       "         1.10405011e-01, -3.76948512e-02],\n",
       "       [-5.92113642e-01, -8.32006971e-02, -1.11614778e-01,\n",
       "         1.10405011e-01, -3.76948512e-02],\n",
       "       [ 6.52953885e-01, -6.22954714e-02, -1.11614778e-01,\n",
       "         2.78119493e-01, -3.76948512e-02],\n",
       "       [ 8.95344002e-03, -8.32006971e-02, -1.11614778e-01,\n",
       "         4.45833975e-01, -1.87720359e-01],\n",
       "       [-6.56513686e-01, -8.32006971e-02, -1.11614778e-01,\n",
       "         1.10405011e-01, -3.76948512e-02],\n",
       "       [ 6.52953885e-01, -8.32006971e-02, -6.05200128e-01,\n",
       "         2.78119493e-01, -3.76948512e-02],\n",
       "       [-6.35047005e-01, -8.32006971e-02, -1.11614778e-01,\n",
       "        -5.73094712e-02, -3.76948512e-02],\n",
       "       [ 6.52953885e-01, -8.32006971e-02, -6.05200128e-01,\n",
       "         2.78119493e-01, -3.76948512e-02],\n",
       "       [-1.27904745e+00, -8.32006971e-02,  3.81970573e-01,\n",
       "        -3.92738435e-01,  1.12330657e-01],\n",
       "       [ 1.98388814e+00, -6.22954714e-02, -6.05200128e-01,\n",
       "         2.78119493e-01, -3.76948512e-02],\n",
       "       [ 8.95344002e-03, -8.32006971e-02, -6.05200128e-01,\n",
       "         1.10405011e-01, -3.76948512e-02],\n",
       "       [-5.54466045e-02, -6.22954714e-02, -1.11614778e-01,\n",
       "         2.78119493e-01, -3.76948512e-02],\n",
       "       [-6.13580323e-01, -1.25011148e-01, -1.11614778e-01,\n",
       "         6.13548457e-01, -3.37745867e-01],\n",
       "       [-1.17171404e+00, -1.04105923e-01,  3.81970573e-01,\n",
       "        -3.92738435e-01,  1.12330657e-01],\n",
       "       [ 1.31842101e+00, -1.04105923e-01, -6.05200128e-01,\n",
       "         4.45833975e-01, -1.87720359e-01],\n",
       "       [ 8.95344002e-03, -1.04105923e-01, -6.05200128e-01,\n",
       "        -5.73094712e-02, -3.76948512e-02],\n",
       "       [-6.99447049e-01, -1.04105923e-01, -1.11614778e-01,\n",
       "         1.10405011e-01, -3.76948512e-02],\n",
       "       [-1.34344749e+00, -1.25011148e-01,  3.81970573e-01,\n",
       "        -7.28167399e-01,  1.12330657e-01],\n",
       "       [-8.06780457e-01, -8.32006971e-02,  3.81970573e-01,\n",
       "        -3.92738435e-01, -3.76948512e-02],\n",
       "       [-1.36491418e+00, -1.66821600e-01,  3.81970573e-01,\n",
       "        -2.25023953e-01, -3.37745867e-01],\n",
       "       [-1.10731400e+00, -1.25011148e-01,  3.81970573e-01,\n",
       "         1.10405011e-01, -3.37745867e-01],\n",
       "       [-1.08584732e+00, -1.04105923e-01,  8.75555923e-01,\n",
       "         1.10405011e-01, -3.37745867e-01],\n",
       "       [-3.98913508e-01, -6.22954714e-02,  8.75555923e-01,\n",
       "        -5.73094712e-02, -3.37745867e-01],\n",
       "       [-5.49180279e-01, -4.13902458e-02,  3.81970573e-01,\n",
       "        -3.92738435e-01, -1.87720359e-01],\n",
       "       [-7.42380412e-01, -8.32006971e-02, -1.11614778e-01,\n",
       "        -5.73094712e-02,  1.12330657e-01],\n",
       "       [-1.25758077e+00, -1.87726825e-01, -1.11614778e-01,\n",
       "        -2.25023953e-01, -1.87720359e-01],\n",
       "       [ 5.88553840e-01, -6.22954714e-02, -1.11614778e-01,\n",
       "         4.45833975e-01, -3.76948512e-02],\n",
       "       [-6.13580323e-01, -1.04105923e-01, -6.05200128e-01,\n",
       "         1.11669190e+00, -3.37745867e-01],\n",
       "       [-1.27904745e+00, -8.32006971e-02, -1.11614778e-01,\n",
       "        -3.92738435e-01, -3.76948512e-02],\n",
       "       [ 5.18868030e-02, -1.25011148e-01, -6.05200128e-01,\n",
       "         9.48977421e-01, -3.37745867e-01],\n",
       "       [-1.25758077e+00, -1.25011148e-01,  3.81970573e-01,\n",
       "         6.13548457e-01, -3.37745867e-01],\n",
       "       [ 5.18868030e-02, -1.04105923e-01, -6.05200128e-01,\n",
       "         1.11669190e+00, -3.37745867e-01],\n",
       "       [-1.25132415e-02, -1.04105923e-01, -6.05200128e-01,\n",
       "         6.13548457e-01, -1.87720359e-01],\n",
       "       [-1.17171404e+00, -1.25011148e-01, -1.11614778e-01,\n",
       "         1.10405011e-01,  1.12330657e-01],\n",
       "       [ 6.10020522e-01, -6.22954714e-02, -6.05200128e-01,\n",
       "         7.81262939e-01, -3.76948512e-02],\n",
       "       [ 8.95344002e-03, -1.04105923e-01, -6.05200128e-01,\n",
       "         6.13548457e-01, -3.76948512e-02],\n",
       "       [ 4.81220433e-01, -1.04105923e-01, -6.05200128e-01,\n",
       "         6.13548457e-01, -3.76948512e-02],\n",
       "       [-6.56513686e-01, -1.25011148e-01, -6.05200128e-01,\n",
       "         7.81262939e-01, -3.37745867e-01],\n",
       "       [ 7.33534845e-02, -1.25011148e-01, -6.05200128e-01,\n",
       "         1.11669190e+00, -3.37745867e-01],\n",
       "       [-4.41846871e-01, -1.25011148e-01, -6.05200128e-01,\n",
       "         7.81262939e-01, -3.37745867e-01],\n",
       "       [ 5.24153796e-01, -1.04105923e-01, -6.05200128e-01,\n",
       "         4.45833975e-01,  1.12330657e-01],\n",
       "       [-6.35047005e-01, -1.25011148e-01, -6.05200128e-01,\n",
       "         2.78119493e-01, -3.76948512e-02],\n",
       "       [ 6.95887248e-01, -1.25011148e-01, -6.05200128e-01,\n",
       "         7.81262939e-01, -1.87720359e-01],\n",
       "       [ 8.95344002e-03, -1.04105923e-01, -6.05200128e-01,\n",
       "         2.78119493e-01, -3.76948512e-02],\n",
       "       [-6.13580323e-01, -1.25011148e-01, -6.05200128e-01,\n",
       "         2.78119493e-01, -3.76948512e-02],\n",
       "       [ 9.48201660e-02, -1.25011148e-01, -6.05200128e-01,\n",
       "         4.45833975e-01,  1.12330657e-01],\n",
       "       [-3.77446827e-01, -1.25011148e-01, -6.05200128e-01,\n",
       "         6.13548457e-01, -1.87720359e-01],\n",
       "       [ 2.71375531e+00, -1.04105923e-01, -6.05200128e-01,\n",
       "         4.45833975e-01,  1.12330657e-01],\n",
       "       [ 9.10554063e-01, -8.32006971e-02, -1.11614778e-01,\n",
       "         2.78119493e-01,  1.12330657e-01],\n",
       "       [ 2.02153573e-01, -8.32006971e-02, -1.11614778e-01,\n",
       "         2.78119493e-01,  1.12330657e-01],\n",
       "       [ 9.32020744e-01, -8.32006971e-02, -1.11614778e-01,\n",
       "         2.78119493e-01, -3.76948512e-02],\n",
       "       [-7.63847094e-01, -1.04105923e-01, -1.11614778e-01,\n",
       "        -5.73094712e-02,  1.12330657e-01],\n",
       "       [ 7.17353929e-01, -8.32006971e-02, -1.11614778e-01,\n",
       "         4.45833975e-01, -3.76948512e-02],\n",
       "       [ 1.59748787e+00, -1.04105923e-01, -6.05200128e-01,\n",
       "         4.45833975e-01,  1.12330657e-01],\n",
       "       [ 8.89087381e-01, -8.32006971e-02, -1.11614778e-01,\n",
       "         4.45833975e-01,  1.12330657e-01],\n",
       "       [ 9.74954107e-01, -1.04105923e-01, -1.09878548e+00,\n",
       "         4.45833975e-01,  1.12330657e-01],\n",
       "       [ 4.38287070e-01, -1.25011148e-01, -6.05200128e-01,\n",
       "         4.45833975e-01, -3.76948512e-02],\n",
       "       [ 3.98028952e+00, -1.45916374e-01, -1.09878548e+00,\n",
       "         1.11669190e+00, -3.37745867e-01],\n",
       "       [ 6.31487203e-01, -1.25011148e-01, -6.05200128e-01,\n",
       "         6.13548457e-01, -1.87720359e-01],\n",
       "       [ 4.38287070e-01, -1.04105923e-01, -1.09878548e+00,\n",
       "         4.45833975e-01, -3.76948512e-02],\n",
       "       [ 9.74954107e-01, -1.04105923e-01, -6.05200128e-01,\n",
       "         4.45833975e-01,  1.12330657e-01],\n",
       "       [ 1.03935415e+00, -1.25011148e-01, -1.09878548e+00,\n",
       "         7.81262939e-01, -1.87720359e-01],\n",
       "       [ 2.99282217e+00, -8.32006971e-02, -1.09878548e+00,\n",
       "         6.13548457e-01,  1.12330657e-01],\n",
       "       [ 1.03935415e+00, -8.32006971e-02, -6.05200128e-01,\n",
       "         4.45833975e-01,  1.12330657e-01],\n",
       "       [ 6.52953885e-01, -1.04105923e-01, -6.05200128e-01,\n",
       "         4.45833975e-01,  1.12330657e-01],\n",
       "       [ 6.95887248e-01, -1.25011148e-01, -1.09878548e+00,\n",
       "         7.81262939e-01, -1.87720359e-01],\n",
       "       [ 1.10375420e+00, -1.04105923e-01, -6.05200128e-01,\n",
       "         4.45833975e-01, -3.76948512e-02],\n",
       "       [ 4.75309005e+00, -8.32006971e-02, -1.09878548e+00,\n",
       "         6.13548457e-01,  2.62356164e-01],\n",
       "       [ 2.26295500e+00, -2.04850201e-02, -6.05200128e-01,\n",
       "         6.13548457e-01,  7.12432688e-01],\n",
       "       [ 1.74775464e+00, -8.32006971e-02, -1.09878548e+00,\n",
       "         6.13548457e-01,  1.12330657e-01],\n",
       "       [-3.98913508e-01,  4.60335170e-01,  3.83706802e+00,\n",
       "        -2.57302670e+00, -1.87720359e-01],\n",
       "       [ 2.54202186e+00,  1.67662011e-01,  3.81970573e-01,\n",
       "         4.45833975e-01,  1.61258573e+00],\n",
       "       [ 1.27548765e+00,  1.67662011e-01,  3.81970573e-01,\n",
       "         7.81262939e-01,  1.91263675e+00],\n",
       "       [-1.25132415e-02, -6.22954714e-02, -1.11614778e-01,\n",
       "        -5.73094712e-02,  1.12330657e-01],\n",
       "       [ 9.48201660e-02, -8.32006971e-02, -1.11614778e-01,\n",
       "        -5.73094712e-02, -3.76948512e-02],\n",
       "       [-1.30051413e+00,  2.13254312e-02,  3.81970573e-01,\n",
       "        -5.73094712e-02,  1.01248370e+00],\n",
       "       [-8.06780457e-01, -1.25011148e-01, -6.05200128e-01,\n",
       "         6.13548457e-01, -3.37745867e-01],\n",
       "       [-7.20913731e-01,  3.55809042e-01,  3.83706802e+00,\n",
       "        -1.90216877e+00, -4.87771374e-01],\n",
       "       [-5.70646960e-01, -6.22954714e-02,  3.81970573e-01,\n",
       "        -7.28167399e-01, -3.37745867e-01],\n",
       "       [-5.70646960e-01, -6.22954714e-02,  8.75555923e-01,\n",
       "        -5.60452917e-01, -4.87771374e-01],\n",
       "       [-6.35047005e-01,  4.20205541e-04,  3.81970573e-01,\n",
       "        -1.23131085e+00, -1.87720359e-01],\n",
       "       [-1.34344749e+00,  4.20205541e-04,  1.36914127e+00,\n",
       "        -1.06359636e+00, -3.76948512e-02],\n",
       "       [-5.92113642e-01, -2.04850201e-02,  3.81970573e-01,\n",
       "        -5.60452917e-01, -3.76948512e-02],\n",
       "       [ 2.88020299e-01, -4.13902458e-02,  3.81970573e-01,\n",
       "        -5.73094712e-02, -4.87771374e-01],\n",
       "       [-8.49713820e-01, -4.13902458e-02,  3.81970573e-01,\n",
       "        -2.25023953e-01, -1.87720359e-01],\n",
       "       [-6.77980368e-01, -2.04850201e-02,  8.75555923e-01,\n",
       "         1.10405011e-01, -4.87771374e-01],\n",
       "       [-1.27904745e+00, -4.13902458e-02,  1.36914127e+00,\n",
       "        -5.60452917e-01, -4.87771374e-01],\n",
       "       [-1.02144727e+00, -1.04105923e-01,  3.81970573e-01,\n",
       "        -5.73094712e-02, -3.37745867e-01],\n",
       "       [-2.48646738e-01, -6.22954714e-02,  3.81970573e-01,\n",
       "         2.78119493e-01, -3.37745867e-01],\n",
       "       [-6.77980368e-01, -6.22954714e-02, -1.11614778e-01,\n",
       "        -2.25023953e-01, -3.76948512e-02],\n",
       "       [ 3.04201215e-02, -6.22954714e-02, -1.11614778e-01,\n",
       "        -3.92738435e-01, -3.76948512e-02],\n",
       "       [-6.13580323e-01, -8.32006971e-02, -1.11614778e-01,\n",
       "        -5.73094712e-02, -3.76948512e-02],\n",
       "       [-1.17171404e+00, -8.32006971e-02,  8.75555923e-01,\n",
       "        -5.60452917e-01,  1.12330657e-01],\n",
       "       [-1.21464740e+00, -1.04105923e-01,  3.81970573e-01,\n",
       "        -5.60452917e-01,  1.12330657e-01],\n",
       "       [-3.13046782e-01, -8.32006971e-02, -1.11614778e-01,\n",
       "        -5.73094712e-02, -3.76948512e-02],\n",
       "       [-9.14113864e-01, -8.32006971e-02, -1.11614778e-01,\n",
       "        -5.73094712e-02, -3.76948512e-02],\n",
       "       [ 6.95887248e-01, -1.04105923e-01, -1.11614778e-01,\n",
       "         7.81262939e-01, -3.37745867e-01],\n",
       "       [-9.57047227e-01, -1.25011148e-01,  3.81970573e-01,\n",
       "         2.78119493e-01, -3.37745867e-01],\n",
       "       [-9.35580546e-01, -1.04105923e-01, -1.11614778e-01,\n",
       "         2.78119493e-01, -3.37745867e-01],\n",
       "       [-6.35047005e-01, -1.04105923e-01, -1.11614778e-01,\n",
       "         4.45833975e-01, -3.37745867e-01],\n",
       "       [-1.25758077e+00, -1.25011148e-01,  3.81970573e-01,\n",
       "        -5.60452917e-01, -3.76948512e-02],\n",
       "       [-1.19318072e+00, -8.32006971e-02,  3.81970573e-01,\n",
       "        -3.92738435e-01,  1.12330657e-01],\n",
       "       [ 3.95353707e-01, -4.13902458e-02, -6.05200128e-01,\n",
       "         2.78119493e-01,  4.12381672e-01],\n",
       "       [ 1.57602119e+00, -8.32006971e-02, -6.05200128e-01,\n",
       "         1.10405011e-01, -3.76948512e-02],\n",
       "       [ 1.59748787e+00, -8.32006971e-02, -6.05200128e-01,\n",
       "        -5.73094712e-02, -3.76948512e-02],\n",
       "       [ 1.16815424e+00, -8.32006971e-02, -1.11614778e-01,\n",
       "         1.10405011e-01, -3.76948512e-02],\n",
       "       [ 1.66188791e+00, -8.32006971e-02, -1.11614778e-01,\n",
       "         1.10405011e-01, -3.76948512e-02],\n",
       "       [ 1.14668756e+00, -8.32006971e-02, -1.11614778e-01,\n",
       "         1.10405011e-01, -3.76948512e-02],\n",
       "       [-2.48646738e-01, -6.22954714e-02,  3.81970573e-01,\n",
       "        -5.73094712e-02, -3.76948512e-02],\n",
       "       [ 1.79068800e+00, -8.32006971e-02, -1.11614778e-01,\n",
       "         2.78119493e-01, -3.76948512e-02],\n",
       "       [-8.71180501e-01, -8.32006971e-02,  3.81970573e-01,\n",
       "        -5.73094712e-02,  1.12330657e-01],\n",
       "       [-2.48646738e-01, -8.32006971e-02, -1.11614778e-01,\n",
       "        -5.73094712e-02,  1.12330657e-01],\n",
       "       [ 3.95353707e-01, -8.32006971e-02, -1.11614778e-01,\n",
       "        -5.73094712e-02,  1.12330657e-01],\n",
       "       [ 1.66188791e+00, -4.13902458e-02, -6.05200128e-01,\n",
       "         2.78119493e-01,  2.62356164e-01],\n",
       "       [ 1.03935415e+00, -8.32006971e-02, -6.05200128e-01,\n",
       "         2.78119493e-01, -3.76948512e-02],\n",
       "       [ 3.95353707e-01, -6.22954714e-02, -1.11614778e-01,\n",
       "         2.78119493e-01, -3.76948512e-02],\n",
       "       [ 1.33988769e+00, -6.22954714e-02, -6.05200128e-01,\n",
       "         2.78119493e-01, -3.76948512e-02],\n",
       "       [ 1.33988769e+00, -8.32006971e-02, -1.11614778e-01,\n",
       "         2.78119493e-01, -3.76948512e-02],\n",
       "       [ 5.45620477e-01, -6.22954714e-02, -6.05200128e-01,\n",
       "         1.10405011e-01, -3.76948512e-02],\n",
       "       [ 2.45086936e-01, -1.04105923e-01, -1.09878548e+00,\n",
       "         4.45833975e-01, -3.76948512e-02],\n",
       "       [ 9.32020744e-01, -1.04105923e-01, -1.09878548e+00,\n",
       "         4.45833975e-01, -3.76948512e-02],\n",
       "       [-8.92647183e-01, -1.04105923e-01, -1.11614778e-01,\n",
       "         4.45833975e-01, -1.87720359e-01],\n",
       "       [ 3.73887025e-01, -1.25011148e-01, -6.05200128e-01,\n",
       "         9.48977421e-01, -3.37745867e-01],\n",
       "       [-2.91580101e-01, -1.04105923e-01, -6.05200128e-01,\n",
       "         2.78119493e-01,  1.12330657e-01],\n",
       "       [-3.13046782e-01, -8.32006971e-02, -6.05200128e-01,\n",
       "         6.13548457e-01, -3.76948512e-02],\n",
       "       [ 1.16286847e-01, -8.32006971e-02, -6.05200128e-01,\n",
       "         6.13548457e-01, -3.76948512e-02],\n",
       "       [ 1.29695433e+00, -1.04105923e-01, -6.05200128e-01,\n",
       "         6.13548457e-01, -1.87720359e-01],\n",
       "       [-5.92113642e-01, -1.25011148e-01, -6.05200128e-01,\n",
       "         2.78119493e-01, -3.76948512e-02],\n",
       "       [-3.39799230e-02, -1.45916374e-01, -6.05200128e-01,\n",
       "         1.11669190e+00, -3.37745867e-01],\n",
       "       [-3.39799230e-02,  3.13998590e-01,  4.82423873e+00,\n",
       "        -2.57302670e+00, -1.87720359e-01],\n",
       "       [-6.13580323e-01,  8.40411082e-02,  3.34348267e+00,\n",
       "        -2.40531222e+00, -4.87771374e-01],\n",
       "       [-1.30051413e+00,  2.13254312e-02,  1.36914127e+00,\n",
       "        -1.73445429e+00,  1.12330657e-01],\n",
       "       [ 3.04201215e-02,  1.25851559e-01,  3.81970573e-01,\n",
       "        -3.92738435e-01,  1.01248370e+00],\n",
       "       [ 1.29695433e+00, -6.22954714e-02, -1.11614778e-01,\n",
       "        -2.25023953e-01, -3.76948512e-02],\n",
       "       [ 8.95344002e-03, -6.22954714e-02,  3.81970573e-01,\n",
       "        -5.73094712e-02, -3.76948512e-02],\n",
       "       [ 8.95344002e-03, -8.32006971e-02, -1.11614778e-01,\n",
       "        -2.25023953e-01, -3.76948512e-02],\n",
       "       [-6.35047005e-01, -1.25011148e-01, -1.11614778e-01,\n",
       "         2.78119493e-01, -3.37745867e-01],\n",
       "       [ 8.95344002e-03, -6.22954714e-02, -1.11614778e-01,\n",
       "         1.10405011e-01, -1.87720359e-01],\n",
       "       [-6.35047005e-01, -1.04105923e-01, -1.11614778e-01,\n",
       "         4.45833975e-01, -3.37745867e-01],\n",
       "       [-5.70646960e-01, -8.32006971e-02, -1.11614778e-01,\n",
       "         1.10405011e-01, -3.37745867e-01],\n",
       "       [-6.35047005e-01, -6.22954714e-02, -1.11614778e-01,\n",
       "        -5.73094712e-02, -3.76948512e-02],\n",
       "       [ 1.16286847e-01, -1.25011148e-01, -1.11614778e-01,\n",
       "         4.45833975e-01, -3.37745867e-01],\n",
       "       [ 6.10020522e-01, -8.32006971e-02, -1.11614778e-01,\n",
       "         1.10405011e-01, -1.87720359e-01],\n",
       "       [-1.23611409e+00, -8.32006971e-02,  3.81970573e-01,\n",
       "        -3.92738435e-01,  1.12330657e-01],\n",
       "       [ 8.95344002e-03, -8.32006971e-02, -1.11614778e-01,\n",
       "        -5.73094712e-02, -3.76948512e-02],\n",
       "       [-6.13580323e-01, -1.04105923e-01, -6.05200128e-01,\n",
       "         1.10405011e-01, -3.76948512e-02],\n",
       "       [-6.35047005e-01, -1.04105923e-01, -1.11614778e-01,\n",
       "        -5.73094712e-02, -3.76948512e-02],\n",
       "       [-1.25132415e-02, -8.32006971e-02, -6.05200128e-01,\n",
       "         2.78119493e-01, -1.87720359e-01],\n",
       "       [-1.34344749e+00, -8.32006971e-02,  3.81970573e-01,\n",
       "        -3.92738435e-01,  1.12330657e-01],\n",
       "       [ 1.31842101e+00, -8.32006971e-02, -1.11614778e-01,\n",
       "         4.45833975e-01, -1.87720359e-01],\n",
       "       [-1.25132415e-02, -8.32006971e-02, -1.11614778e-01,\n",
       "         1.10405011e-01, -3.76948512e-02],\n",
       "       [-2.70113419e-01, -1.04105923e-01, -1.11614778e-01,\n",
       "         2.78119493e-01, -3.37745867e-01],\n",
       "       [ 1.03935415e+00, -1.04105923e-01, -6.05200128e-01,\n",
       "         4.45833975e-01, -1.87720359e-01],\n",
       "       [ 6.74420566e-01, -1.04105923e-01, -1.11614778e-01,\n",
       "         6.13548457e-01, -3.37745867e-01],\n",
       "       [ 7.33534845e-02, -1.25011148e-01, -1.11614778e-01,\n",
       "         6.13548457e-01, -3.37745867e-01],\n",
       "       [ 6.74420566e-01, -1.04105923e-01, -6.05200128e-01,\n",
       "         2.78119493e-01, -1.87720359e-01],\n",
       "       [-5.49180279e-01, -8.32006971e-02, -1.11614778e-01,\n",
       "         1.10405011e-01, -3.76948512e-02],\n",
       "       [ 3.04201215e-02, -1.04105923e-01, -6.05200128e-01,\n",
       "         1.10405011e-01, -1.87720359e-01],\n",
       "       [-3.34513464e-01, -1.25011148e-01, -6.05200128e-01,\n",
       "         4.45833975e-01, -3.37745867e-01],\n",
       "       [-9.14113864e-01, -1.25011148e-01, -1.11614778e-01,\n",
       "         1.10405011e-01, -1.87720359e-01],\n",
       "       [ 6.74420566e-01, -1.04105923e-01, -6.05200128e-01,\n",
       "         1.10405011e-01, -3.76948512e-02],\n",
       "       [ 1.16286847e-01, -1.04105923e-01, -6.05200128e-01,\n",
       "         1.10405011e-01, -3.76948512e-02],\n",
       "       [-6.56513686e-01, -8.32006971e-02, -1.11614778e-01,\n",
       "        -2.25023953e-01, -3.76948512e-02],\n",
       "       [-6.35047005e-01, -8.32006971e-02, -1.11614778e-01,\n",
       "        -2.25023953e-01, -3.76948512e-02],\n",
       "       [-4.41846871e-01, -1.25011148e-01, -1.11614778e-01,\n",
       "         4.45833975e-01, -3.37745867e-01],\n",
       "       [-1.41313330e-01, -1.25011148e-01, -6.05200128e-01,\n",
       "         6.13548457e-01, -3.37745867e-01],\n",
       "       [-7.42380412e-01, -1.04105923e-01, -1.11614778e-01,\n",
       "         2.78119493e-01, -1.87720359e-01],\n",
       "       [ 7.33534845e-02, -8.32006971e-02, -1.11614778e-01,\n",
       "         1.10405011e-01, -3.76948512e-02],\n",
       "       [-6.56513686e-01, -8.32006971e-02, -1.11614778e-01,\n",
       "         1.10405011e-01, -3.76948512e-02],\n",
       "       [-5.70646960e-01, -1.04105923e-01, -1.11614778e-01,\n",
       "         2.78119493e-01, -3.37745867e-01],\n",
       "       [ 9.48201660e-02, -1.04105923e-01, -6.05200128e-01,\n",
       "        -5.73094712e-02, -3.76948512e-02],\n",
       "       [-6.13580323e-01, -1.04105923e-01, -1.11614778e-01,\n",
       "        -5.73094712e-02,  1.12330657e-01],\n",
       "       [-1.25758077e+00, -1.04105923e-01,  3.81970573e-01,\n",
       "        -3.92738435e-01,  1.12330657e-01],\n",
       "       [-1.62780012e-01,  4.18524719e-01,  5.31782408e+00,\n",
       "        -3.24388463e+00, -3.37745867e-01]])"
      ]
     },
     "execution_count": 197,
     "metadata": {},
     "output_type": "execute_result"
    }
   ],
   "source": [
    "data"
   ]
  },
  {
   "cell_type": "code",
   "execution_count": 202,
   "metadata": {},
   "outputs": [],
   "source": [
    "def getDistanceByPoint(data, model):\n",
    "    distance = pd.Series()\n",
    "    for i in range(0,len(data)):\n",
    "        Xa = np.array(data[i])\n",
    "        Xb = model.cluster_centers_[model.labels_[i]-1]\n",
    "        distance.set_value(i, np.linalg.norm(Xa-Xb))\n",
    "    return distance\n",
    "\n",
    "outliers_fraction = 0.05"
   ]
  },
  {
   "cell_type": "code",
   "execution_count": 203,
   "metadata": {},
   "outputs": [
    {
     "data": {
      "text/plain": [
       "array([ -0.69944705,  14.0069214 ,  -0.60520013, -10.79103632,\n",
       "        13.46460085])"
      ]
     },
     "execution_count": 203,
     "metadata": {},
     "output_type": "execute_result"
    }
   ],
   "source": [
    "kmeans[7].cluster_centers_[kmeans[7].labels_[1]-1]"
   ]
  },
  {
   "cell_type": "code",
   "execution_count": 207,
   "metadata": {},
   "outputs": [
    {
     "data": {
      "text/plain": [
       "array([5, 2, 2, 3, 4, 4, 4, 0, 4, 7, 4, 3, 1, 7, 3, 4, 4, 3, 7, 7, 0, 0,\n",
       "       7, 0, 4, 7, 0, 3, 7, 0, 3, 0, 3, 4, 3, 7, 7, 0, 4, 3, 7, 0, 4, 4,\n",
       "       4, 4, 4, 4, 4, 0, 4, 3, 7, 4, 7, 0, 7, 7, 0, 3, 7, 7, 7, 7, 7, 3,\n",
       "       0, 3, 7, 0, 7, 7, 6, 3, 7, 3, 0, 3, 3, 3, 3, 7, 6, 3, 7, 3, 3, 6,\n",
       "       3, 3, 3, 3, 6, 6, 3, 2, 6, 3, 7, 7, 4, 0, 2, 4, 4, 4, 4, 4, 7, 4,\n",
       "       4, 4, 4, 0, 0, 0, 0, 4, 4, 0, 0, 3, 0, 0, 0, 4, 4, 7, 3, 3, 3, 3,\n",
       "       3, 0, 3, 4, 0, 7, 3, 3, 7, 3, 3, 3, 7, 3, 0, 7, 7, 7, 7, 3, 0, 7,\n",
       "       5, 2, 4, 0, 3, 0, 7, 0, 7, 0, 0, 0, 7, 3, 4, 7, 0, 0, 7, 4, 3, 7,\n",
       "       0, 3, 3, 7, 3, 0, 7, 7, 0, 3, 7, 0, 0, 0, 7, 0, 7, 0, 0, 7, 0, 4,\n",
       "       5], dtype=int32)"
      ]
     },
     "execution_count": 207,
     "metadata": {},
     "output_type": "execute_result"
    }
   ],
   "source": [
    "kmeans[7].labels_"
   ]
  },
  {
   "cell_type": "code",
   "execution_count": 208,
   "metadata": {},
   "outputs": [
    {
     "name": "stderr",
     "output_type": "stream",
     "text": [
      "/Users/kyu.kim@ibm.com/anaconda3/lib/python3.7/site-packages/ipykernel_launcher.py:6: FutureWarning: set_value is deprecated and will be removed in a future release. Please use .at[] or .iat[] accessors instead\n",
      "  \n"
     ]
    }
   ],
   "source": [
    "distance = getDistanceByPoint(data, kmeans[7])\n",
    "number_of_outliers = int(outliers_fraction*len(distance))\n",
    "threshold = distance.nlargest(number_of_outliers).min()"
   ]
  },
  {
   "cell_type": "code",
   "execution_count": 214,
   "metadata": {},
   "outputs": [
    {
     "data": {
      "text/plain": [
       "(199,)"
      ]
     },
     "execution_count": 214,
     "metadata": {},
     "output_type": "execute_result"
    }
   ],
   "source": [
    "distance.shape"
   ]
  },
  {
   "cell_type": "code",
   "execution_count": 210,
   "metadata": {},
   "outputs": [
    {
     "data": {
      "text/plain": [
       "7.861699624232082"
      ]
     },
     "execution_count": 210,
     "metadata": {},
     "output_type": "execute_result"
    }
   ],
   "source": [
    "threshold"
   ]
  },
  {
   "cell_type": "code",
   "execution_count": 211,
   "metadata": {},
   "outputs": [],
   "source": [
    "#create new column called 'anomaly1', if ano, 1, if not 0\n",
    "anomaly1 = (distance >= threshold).astype(int)\n",
    "anomaly1 = anomaly1.to_list()\n",
    "cics_df['anomaly1'] = anomaly1"
   ]
  },
  {
   "cell_type": "code",
   "execution_count": 212,
   "metadata": {},
   "outputs": [
    {
     "data": {
      "text/plain": [
       "0    190\n",
       "1      9\n",
       "Name: anomaly1, dtype: int64"
      ]
     },
     "execution_count": 212,
     "metadata": {},
     "output_type": "execute_result"
    }
   ],
   "source": [
    "cics_df.anomaly1.value_counts()"
   ]
  },
  {
   "cell_type": "code",
   "execution_count": 213,
   "metadata": {},
   "outputs": [
    {
     "data": {
      "image/png": "[encoded data removed]",
      "text/plain": [
       "<Figure size 1440x432 with 1 Axes>"
      ]
     },
     "metadata": {
      "needs_background": "light"
     },
     "output_type": "display_data"
    }
   ],
   "source": [
    "#looks like Kclustering doesn't work. Maybe there are not enough data points\n",
    "fig, ax = plt.subplots(figsize=(20,6))\n",
    "a = cics_df.loc[cics_df['anomaly1'] == 1, ['ENDSTAMP', 'MSRESPTIME']] #anomaly\n",
    "\n",
    "ax.plot(cics_df['ENDSTAMP'], cics_df['MSRESPTIME'], color='blue', label='Normal')\n",
    "ax.scatter(a['ENDSTAMP'], a['MSRESPTIME'], color='red', label='anomaly')\n",
    "\n",
    "plt.xlabel('Time-series')\n",
    "plt.ylabel('Response Time')\n",
    "plt.legend()\n",
    "plt.show() "
   ]
  },
  {
   "cell_type": "code",
   "execution_count": 223,
   "metadata": {},
   "outputs": [],
   "source": [
    "#SVM\n",
    "from sklearn.svm import OneClassSVM\n",
    "\n",
    "# train oneclassSVM \n",
    "# need to define hyperparameter kernel(good to capture non linear data points) \n",
    "# gamma (how each each datasample influence the model) higher gamma, lower SD\n",
    "model = OneClassSVM(nu=outliers_fraction, kernel=\"rbf\", gamma=0.1)\n",
    "model.fit(data)\n",
    "cics_df['anomaly3']=pd.Series(model.predict(data)).to_list()\n"
   ]
  },
  {
   "cell_type": "code",
   "execution_count": 224,
   "metadata": {},
   "outputs": [
    {
     "data": {
      "image/png": "[encoded data removed]",
      "text/plain": [
       "<Figure size 720x432 with 1 Axes>"
      ]
     },
     "metadata": {
      "needs_background": "light"
     },
     "output_type": "display_data"
    }
   ],
   "source": [
    "fig, ax = plt.subplots(figsize=(10,6))\n",
    "a = cics_df.loc[cics_df['anomaly3'] == -1, ['ENDSTAMP', 'MSRESPTIME']] #anomaly\n",
    "\n",
    "ax.plot(cics_df['ENDSTAMP'], cics_df['MSRESPTIME'], color='blue')\n",
    "ax.scatter(a['ENDSTAMP'],a['MSRESPTIME'], color='red')\n",
    "plt.show();"
   ]
  },
  {
   "cell_type": "code",
   "execution_count": 236,
   "metadata": {},
   "outputs": [
    {
     "name": "stderr",
     "output_type": "stream",
     "text": [
      "/Users/kyu.kim@ibm.com/anaconda3/lib/python3.7/site-packages/sklearn/ensemble/iforest.py:247: FutureWarning: behaviour=\"old\" is deprecated and will be removed in version 0.22. Please use behaviour=\"new\", which makes the decision_function change to match other anomaly detection algorithm API.\n",
      "  FutureWarning)\n",
      "/Users/kyu.kim@ibm.com/anaconda3/lib/python3.7/site-packages/sklearn/ensemble/iforest.py:415: DeprecationWarning: threshold_ attribute is deprecated in 0.20 and will be removed in 0.22.\n",
      "  \" be removed in 0.22.\", DeprecationWarning)\n"
     ]
    },
    {
     "data": {
      "image/png": "[encoded data removed]",
      "text/plain": [
       "<Figure size 720x432 with 1 Axes>"
      ]
     },
     "metadata": {
      "needs_background": "light"
     },
     "output_type": "display_data"
    }
   ],
   "source": [
    "#Isolation Forest detects anomalies purely based on the fact \n",
    "#that anomalies are data points that are few and different. \n",
    "#The anomalies isolation is implemented without employing \n",
    "#any distance or density measure. This method is fundamentally \n",
    "#different from clustering based or distance based algorithms.\n",
    "\n",
    "# we can try isolation forest\n",
    "from sklearn.ensemble import IsolationForest\n",
    "\n",
    "#Isolation Forest Application\n",
    "model =  IsolationForest(contamination=outliers_fraction)\n",
    "model.fit(data) \n",
    "cics_df['anomaly2'] = pd.Series(model.predict(data)).to_list()\n",
    "\n",
    "fig, ax = plt.subplots(figsize=(10,6))\n",
    "a = cics_df.loc[cics_df['anomaly2'] == -1, ['ENDSTAMP', 'MSRESPTIME']] #anomaly\n",
    "ax.plot(cics_df['ENDSTAMP'], cics_df['MSRESPTIME'], color='blue', label = 'Normal')\n",
    "ax.scatter(a['ENDSTAMP'],a['MSRESPTIME'], color='red', label = 'Anomaly')\n",
    "plt.legend()\n",
    "plt.show();\n",
    "\n",
    "\n"
   ]
  },
  {
   "cell_type": "code",
   "execution_count": null,
   "metadata": {},
   "outputs": [],
   "source": []
  },
  {
   "cell_type": "code",
   "execution_count": null,
   "metadata": {},
   "outputs": [],
   "source": []
  }
 ],
 "metadata": {
  "kernelspec": {
   "display_name": "Python 3",
   "language": "python",
   "name": "python3"
  },
  "language_info": {
   "codemirror_mode": {
    "name": "ipython",
    "version": 3
   },
   "file_extension": ".py",
   "mimetype": "text/x-python",
   "name": "python",
   "nbconvert_exporter": "python",
   "pygments_lexer": "ipython3",
   "version": "3.7.3"
  }
 },
 "nbformat": 4,
 "nbformat_minor": 2
}
