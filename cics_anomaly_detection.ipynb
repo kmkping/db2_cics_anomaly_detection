{
 "cells": [
  {
   "cell_type": "code",
   "execution_count": 28,
   "metadata": {},
   "outputs": [],
   "source": [
    "import pandas as pd\n",
    "import numpy as np\n",
    "import matplotlib.pyplot as plt\n",
    "from sklearn.cluster import KMeans\n",
    "import numpy as np\n",
    "from mpl_toolkits.mplot3d import Axes3D\n",
    "from sklearn.preprocessing import StandardScaler\n",
    "from numpy import linalg as LA"
   ]
  },
  {
   "cell_type": "code",
   "execution_count": 29,
   "metadata": {},
   "outputs": [],
   "source": [
    "cics_df = pd.read_csv(\"datasets/cics_KPI_24hrs.csv\")"
   ]
  },
  {
   "cell_type": "code",
   "execution_count": null,
   "metadata": {},
   "outputs": [],
   "source": [
    "cics_df.info"
   ]
  },
  {
   "cell_type": "code",
   "execution_count": 30,
   "metadata": {},
   "outputs": [
    {
     "data": {
      "text/plain": [
       "(288, 10)"
      ]
     },
     "execution_count": 30,
     "metadata": {},
     "output_type": "execute_result"
    }
   ],
   "source": [
    "cics_df.shape"
   ]
  },
  {
   "cell_type": "code",
   "execution_count": 31,
   "metadata": {},
   "outputs": [
    {
     "data": {
      "text/plain": [
       "Index(['SUMMTYPE', 'SCNAME', 'TRANID', 'ENDSTAMP', 'TOTALTRANS', 'MSRESPTIME',\n",
       "       'AVCPUTIME', 'ABTRANS', 'DB2WAIT', 'RDSPWAIT'],\n",
       "      dtype='object')"
      ]
     },
     "execution_count": 31,
     "metadata": {},
     "output_type": "execute_result"
    }
   ],
   "source": [
    "cics_df.columns"
   ]
  },
  {
   "cell_type": "code",
   "execution_count": 32,
   "metadata": {},
   "outputs": [],
   "source": [
    "cics_df.head(10)\n",
    "#drop SUMMTYPE, TRANID, SCNAME, ABTRANS\n",
    "cics_df = cics_df.drop([\"SUMMTYPE\", \"TRANID\", \"SCNAME\", \"ABTRANS\"], axis=1)\n",
    "cics_df = cics_df.dropna()"
   ]
  },
  {
   "cell_type": "code",
   "execution_count": 33,
   "metadata": {},
   "outputs": [
    {
     "data": {
      "text/html": [
       "<div>\n",
       "<style scoped>\n",
       "    .dataframe tbody tr th:only-of-type {\n",
       "        vertical-align: middle;\n",
       "    }\n",
       "\n",
       "    .dataframe tbody tr th {\n",
       "        vertical-align: top;\n",
       "    }\n",
       "\n",
       "    .dataframe thead th {\n",
       "        text-align: right;\n",
       "    }\n",
       "</style>\n",
       "<table border=\"1\" class=\"dataframe\">\n",
       "  <thead>\n",
       "    <tr style=\"text-align: right;\">\n",
       "      <th></th>\n",
       "      <th>ENDSTAMP</th>\n",
       "      <th>TOTALTRANS</th>\n",
       "      <th>MSRESPTIME</th>\n",
       "      <th>AVCPUTIME</th>\n",
       "      <th>DB2WAIT</th>\n",
       "      <th>RDSPWAIT</th>\n",
       "    </tr>\n",
       "  </thead>\n",
       "  <tbody>\n",
       "    <tr>\n",
       "      <th>0</th>\n",
       "      <td>Sep 23 2019 4:10:00 PM</td>\n",
       "      <td>98.0</td>\n",
       "      <td>0.067</td>\n",
       "      <td>0.034</td>\n",
       "      <td>56.0</td>\n",
       "      <td>11.0</td>\n",
       "    </tr>\n",
       "    <tr>\n",
       "      <th>1</th>\n",
       "      <td>Sep 23 2019 4:15:00 PM</td>\n",
       "      <td>76.0</td>\n",
       "      <td>0.039</td>\n",
       "      <td>0.026</td>\n",
       "      <td>58.0</td>\n",
       "      <td>2.0</td>\n",
       "    </tr>\n",
       "    <tr>\n",
       "      <th>2</th>\n",
       "      <td>Sep 23 2019 4:20:00 PM</td>\n",
       "      <td>46.0</td>\n",
       "      <td>0.039</td>\n",
       "      <td>0.027</td>\n",
       "      <td>57.0</td>\n",
       "      <td>4.0</td>\n",
       "    </tr>\n",
       "    <tr>\n",
       "      <th>3</th>\n",
       "      <td>Sep 23 2019 4:25:00 PM</td>\n",
       "      <td>104.0</td>\n",
       "      <td>0.034</td>\n",
       "      <td>0.022</td>\n",
       "      <td>64.0</td>\n",
       "      <td>4.0</td>\n",
       "    </tr>\n",
       "    <tr>\n",
       "      <th>4</th>\n",
       "      <td>Sep 23 2019 4:30:00 PM</td>\n",
       "      <td>15.0</td>\n",
       "      <td>0.032</td>\n",
       "      <td>0.023</td>\n",
       "      <td>61.0</td>\n",
       "      <td>6.0</td>\n",
       "    </tr>\n",
       "  </tbody>\n",
       "</table>\n",
       "</div>"
      ],
      "text/plain": [
       "                 ENDSTAMP  TOTALTRANS  MSRESPTIME  AVCPUTIME  DB2WAIT  \\\n",
       "0  Sep 23 2019 4:10:00 PM        98.0       0.067      0.034     56.0   \n",
       "1  Sep 23 2019 4:15:00 PM        76.0       0.039      0.026     58.0   \n",
       "2  Sep 23 2019 4:20:00 PM        46.0       0.039      0.027     57.0   \n",
       "3  Sep 23 2019 4:25:00 PM       104.0       0.034      0.022     64.0   \n",
       "4  Sep 23 2019 4:30:00 PM        15.0       0.032      0.023     61.0   \n",
       "\n",
       "   RDSPWAIT  \n",
       "0      11.0  \n",
       "1       2.0  \n",
       "2       4.0  \n",
       "3       4.0  \n",
       "4       6.0  "
      ]
     },
     "execution_count": 33,
     "metadata": {},
     "output_type": "execute_result"
    }
   ],
   "source": [
    "cics_df.head()"
   ]
  },
  {
   "cell_type": "code",
   "execution_count": 34,
   "metadata": {},
   "outputs": [
    {
     "data": {
      "text/html": [
       "<div>\n",
       "<style scoped>\n",
       "    .dataframe tbody tr th:only-of-type {\n",
       "        vertical-align: middle;\n",
       "    }\n",
       "\n",
       "    .dataframe tbody tr th {\n",
       "        vertical-align: top;\n",
       "    }\n",
       "\n",
       "    .dataframe thead th {\n",
       "        text-align: right;\n",
       "    }\n",
       "</style>\n",
       "<table border=\"1\" class=\"dataframe\">\n",
       "  <thead>\n",
       "    <tr style=\"text-align: right;\">\n",
       "      <th></th>\n",
       "      <th>ENDSTAMP</th>\n",
       "      <th>TOTALTRANS</th>\n",
       "      <th>MSRESPTIME</th>\n",
       "      <th>AVCPUTIME</th>\n",
       "      <th>DB2WAIT</th>\n",
       "      <th>RDSPWAIT</th>\n",
       "    </tr>\n",
       "  </thead>\n",
       "  <tbody>\n",
       "    <tr>\n",
       "      <th>count</th>\n",
       "      <td>199</td>\n",
       "      <td>199.000000</td>\n",
       "      <td>199.000000</td>\n",
       "      <td>199.000000</td>\n",
       "      <td>199.000000</td>\n",
       "      <td>199.000000</td>\n",
       "    </tr>\n",
       "    <tr>\n",
       "      <th>unique</th>\n",
       "      <td>199</td>\n",
       "      <td>NaN</td>\n",
       "      <td>NaN</td>\n",
       "      <td>NaN</td>\n",
       "      <td>NaN</td>\n",
       "      <td>NaN</td>\n",
       "    </tr>\n",
       "    <tr>\n",
       "      <th>top</th>\n",
       "      <td>Sep 24 2019 10:30:00 AM</td>\n",
       "      <td>NaN</td>\n",
       "      <td>NaN</td>\n",
       "      <td>NaN</td>\n",
       "      <td>NaN</td>\n",
       "      <td>NaN</td>\n",
       "    </tr>\n",
       "    <tr>\n",
       "      <th>freq</th>\n",
       "      <td>1</td>\n",
       "      <td>NaN</td>\n",
       "      <td>NaN</td>\n",
       "      <td>NaN</td>\n",
       "      <td>NaN</td>\n",
       "      <td>NaN</td>\n",
       "    </tr>\n",
       "    <tr>\n",
       "      <th>mean</th>\n",
       "      <td>NaN</td>\n",
       "      <td>75.582915</td>\n",
       "      <td>0.035980</td>\n",
       "      <td>0.021226</td>\n",
       "      <td>66.341709</td>\n",
       "      <td>5.251256</td>\n",
       "    </tr>\n",
       "    <tr>\n",
       "      <th>std</th>\n",
       "      <td>NaN</td>\n",
       "      <td>46.701307</td>\n",
       "      <td>0.047956</td>\n",
       "      <td>0.002031</td>\n",
       "      <td>5.977552</td>\n",
       "      <td>6.682344</td>\n",
       "    </tr>\n",
       "    <tr>\n",
       "      <th>min</th>\n",
       "      <td>NaN</td>\n",
       "      <td>12.000000</td>\n",
       "      <td>0.027000</td>\n",
       "      <td>0.019000</td>\n",
       "      <td>2.000000</td>\n",
       "      <td>2.000000</td>\n",
       "    </tr>\n",
       "    <tr>\n",
       "      <th>25%</th>\n",
       "      <td>NaN</td>\n",
       "      <td>45.500000</td>\n",
       "      <td>0.031000</td>\n",
       "      <td>0.020000</td>\n",
       "      <td>66.000000</td>\n",
       "      <td>4.000000</td>\n",
       "    </tr>\n",
       "    <tr>\n",
       "      <th>50%</th>\n",
       "      <td>NaN</td>\n",
       "      <td>74.000000</td>\n",
       "      <td>0.032000</td>\n",
       "      <td>0.021000</td>\n",
       "      <td>67.000000</td>\n",
       "      <td>5.000000</td>\n",
       "    </tr>\n",
       "    <tr>\n",
       "      <th>75%</th>\n",
       "      <td>NaN</td>\n",
       "      <td>104.000000</td>\n",
       "      <td>0.032000</td>\n",
       "      <td>0.022000</td>\n",
       "      <td>69.000000</td>\n",
       "      <td>5.000000</td>\n",
       "    </tr>\n",
       "    <tr>\n",
       "      <th>max</th>\n",
       "      <td>NaN</td>\n",
       "      <td>297.000000</td>\n",
       "      <td>0.706000</td>\n",
       "      <td>0.034000</td>\n",
       "      <td>73.000000</td>\n",
       "      <td>95.000000</td>\n",
       "    </tr>\n",
       "  </tbody>\n",
       "</table>\n",
       "</div>"
      ],
      "text/plain": [
       "                       ENDSTAMP  TOTALTRANS  MSRESPTIME   AVCPUTIME  \\\n",
       "count                       199  199.000000  199.000000  199.000000   \n",
       "unique                      199         NaN         NaN         NaN   \n",
       "top     Sep 24 2019 10:30:00 AM         NaN         NaN         NaN   \n",
       "freq                          1         NaN         NaN         NaN   \n",
       "mean                        NaN   75.582915    0.035980    0.021226   \n",
       "std                         NaN   46.701307    0.047956    0.002031   \n",
       "min                         NaN   12.000000    0.027000    0.019000   \n",
       "25%                         NaN   45.500000    0.031000    0.020000   \n",
       "50%                         NaN   74.000000    0.032000    0.021000   \n",
       "75%                         NaN  104.000000    0.032000    0.022000   \n",
       "max                         NaN  297.000000    0.706000    0.034000   \n",
       "\n",
       "           DB2WAIT    RDSPWAIT  \n",
       "count   199.000000  199.000000  \n",
       "unique         NaN         NaN  \n",
       "top            NaN         NaN  \n",
       "freq           NaN         NaN  \n",
       "mean     66.341709    5.251256  \n",
       "std       5.977552    6.682344  \n",
       "min       2.000000    2.000000  \n",
       "25%      66.000000    4.000000  \n",
       "50%      67.000000    5.000000  \n",
       "75%      69.000000    5.000000  \n",
       "max      73.000000   95.000000  "
      ]
     },
     "execution_count": 34,
     "metadata": {},
     "output_type": "execute_result"
    }
   ],
   "source": [
    "#it seems no outlier here\n",
    "cics_df.describe(include='all')"
   ]
  },
  {
   "cell_type": "code",
   "execution_count": 35,
   "metadata": {},
   "outputs": [],
   "source": [
    "cics_df['ENDSTAMP']=pd.to_datetime(cics_df['ENDSTAMP'])"
   ]
  },
  {
   "cell_type": "code",
   "execution_count": 49,
   "metadata": {},
   "outputs": [
    {
     "name": "stdout",
     "output_type": "stream",
     "text": [
      "<class 'pandas.core.frame.DataFrame'>\n",
      "Int64Index: 199 entries, 0 to 287\n",
      "Data columns (total 6 columns):\n",
      "ENDSTAMP      199 non-null datetime64[ns]\n",
      "TOTALTRANS    199 non-null float64\n",
      "MSRESPTIME    199 non-null float64\n",
      "AVCPUTIME     199 non-null float64\n",
      "DB2WAIT       199 non-null float64\n",
      "RDSPWAIT      199 non-null float64\n",
      "dtypes: datetime64[ns](1), float64(5)\n",
      "memory usage: 10.9 KB\n"
     ]
    }
   ],
   "source": [
    "cics_df.info()"
   ]
  },
  {
   "cell_type": "code",
   "execution_count": 36,
   "metadata": {},
   "outputs": [
    {
     "data": {
      "text/plain": [
       "Text(0.5, 1.0, 'Time series of CICS reponse time')"
      ]
     },
     "execution_count": 36,
     "metadata": {},
     "output_type": "execute_result"
    },
    {
     "data": {
      "image/png": "[encoded data removed]",
      "text/plain": [
       "<Figure size 864x432 with 1 Axes>"
      ]
     },
     "metadata": {
      "needs_background": "light"
     },
     "output_type": "display_data"
    }
   ],
   "source": [
    "cics_df.plot(x='ENDSTAMP', y='MSRESPTIME', figsize=(12,6))\n",
    "plt.xlabel('Time')\n",
    "plt.ylabel('Response Time')\n",
    "plt.title('Time series of CICS reponse time')"
   ]
  },
  {
   "cell_type": "code",
   "execution_count": 38,
   "metadata": {},
   "outputs": [],
   "source": [
    "#since this is unsupervised learning, I will try to use k-clustering\n",
    "data = cics_df[[\"TOTALTRANS\",\"MSRESPTIME\",\"AVCPUTIME\",\"DB2WAIT\",\"RDSPWAIT\"]]\n",
    "data = StandardScaler().fit_transform(data)\n",
    "\n",
    "n_clusters = range(1,20)\n",
    "kmeans=[]\n",
    "scores = []\n",
    "\n",
    "for i in n_clusters:\n",
    "    kmean=KMeans(n_clusters=i).fit(data)\n",
    "    kmeans.append(kmean)\n",
    "\n",
    "for i in range(len(kmeans)):\n",
    "    score = kmeans[i].score(data) \n",
    "    scores.append(score)"
   ]
  },
  {
   "cell_type": "code",
   "execution_count": 12,
   "metadata": {},
   "outputs": [
    {
     "data": {
      "image/png": "[encoded data removed]",
      "text/plain": [
       "<Figure size 720x432 with 1 Axes>"
      ]
     },
     "metadata": {
      "needs_background": "light"
     },
     "output_type": "display_data"
    }
   ],
   "source": [
    "fig, ax = plt.subplots(figsize=(10,6))\n",
    "ax.plot(n_clusters, scores)\n",
    "plt.xlabel('Number of Clusters')\n",
    "plt.ylabel('Score')\n",
    "plt.title('Elbow Curve')\n",
    "plt.show()"
   ]
  },
  {
   "cell_type": "code",
   "execution_count": 13,
   "metadata": {},
   "outputs": [],
   "source": [
    "#From the above elbow curve, we see that the graph levels off after \n",
    "#7 clusters, implying that addition of more clusters do not \n",
    "#explain much more of the variance in our relevant variable; \n",
    "#in this case price_usd."
   ]
  },
  {
   "cell_type": "code",
   "execution_count": 14,
   "metadata": {},
   "outputs": [],
   "source": [
    "#The underline assumption in the clustering based anomaly detection is that\n",
    "#if we cluster the data, normal data will belong to clusters while anomalies\n",
    "#will not belong to any clusters or belong to small clusters. We use the\n",
    "#following steps to find and visualize anomalies."
   ]
  },
  {
   "cell_type": "code",
   "execution_count": 43,
   "metadata": {},
   "outputs": [],
   "source": [
    "def getDistanceByPoint(data, model):\n",
    "    distance = pd.Series()\n",
    "    for i in range(0,len(data)):\n",
    "        Xa = np.array(data[i])\n",
    "        Xb = model.cluster_centers_[model.labels_[i]-1]\n",
    "        distance.set_value(i, np.linalg.norm(Xa-Xb))\n",
    "    return distance\n",
    "\n",
    "outliers_fraction = 0.05"
   ]
  },
  {
   "cell_type": "code",
   "execution_count": 44,
   "metadata": {},
   "outputs": [
    {
     "data": {
      "text/plain": [
       "array([ 0.58505926, -0.09875807, -0.58224267,  0.51994037, -0.07607347])"
      ]
     },
     "execution_count": 44,
     "metadata": {},
     "output_type": "execute_result"
    }
   ],
   "source": [
    "kmeans[7].cluster_centers_[kmeans[7].labels_[1]-1]"
   ]
  },
  {
   "cell_type": "code",
   "execution_count": 45,
   "metadata": {},
   "outputs": [
    {
     "data": {
      "text/plain": [
       "array([[-1.05929642e+00, -7.71491844e-02,  5.37839631e-01,\n",
       "        -4.45700903e-01, -8.11232877e-02],\n",
       "       [-6.99447049e-01,  1.40069214e+01, -6.05200128e-01,\n",
       "        -1.07910363e+01,  1.34646008e+01],\n",
       "       [ 5.85059264e-01, -9.87580743e-02, -5.82242670e-01,\n",
       "         5.19940374e-01, -7.60734695e-02],\n",
       "       [-2.59380079e-01,  3.00932824e-01,  4.08386070e+00,\n",
       "        -2.17470481e+00, -1.87720359e-01],\n",
       "       [ 3.90873391e+00, -1.04105923e-01, -1.09878548e+00,\n",
       "         7.81262939e-01,  1.23136514e-02],\n",
       "       [ 1.64859902e+00, -5.53270629e-02, -3.70159485e-01,\n",
       "         3.10065108e-01,  1.83771375e-01],\n",
       "       [ 6.73905174e-02, -7.50708871e-02, -1.39036186e-01,\n",
       "         5.45001834e-02, -5.43643521e-02],\n",
       "       [-6.30666049e-01, -1.03252648e-01, -2.32492823e-01,\n",
       "         2.43892047e-01, -1.54041163e-01]])"
      ]
     },
     "execution_count": 45,
     "metadata": {},
     "output_type": "execute_result"
    }
   ],
   "source": [
    "kmeans[7].cluster_centers_"
   ]
  },
  {
   "cell_type": "code",
   "execution_count": 18,
   "metadata": {},
   "outputs": [
    {
     "data": {
      "text/plain": [
       "array([2, 6, 6, 0, 3, 3, 3, 0, 3, 0, 3, 4, 1, 0, 5, 3, 3, 5, 0, 0, 0, 0,\n",
       "       0, 0, 3, 0, 0, 5, 0, 0, 5, 0, 5, 3, 4, 0, 0, 0, 3, 4, 0, 0, 3, 3,\n",
       "       3, 3, 3, 3, 3, 0, 3, 5, 0, 3, 5, 3, 5, 5, 3, 5, 5, 5, 0, 5, 0, 5,\n",
       "       0, 5, 0, 0, 5, 0, 4, 5, 0, 5, 0, 5, 4, 5, 5, 5, 7, 5, 5, 5, 5, 7,\n",
       "       5, 5, 5, 5, 7, 4, 4, 6, 4, 4, 0, 0, 3, 0, 6, 3, 3, 3, 3, 3, 0, 3,\n",
       "       3, 3, 3, 0, 0, 0, 0, 3, 3, 0, 0, 5, 3, 0, 0, 3, 3, 5, 4, 4, 4, 4,\n",
       "       4, 0, 4, 3, 0, 5, 4, 5, 5, 4, 4, 5, 5, 5, 0, 5, 0, 0, 5, 4, 0, 5,\n",
       "       2, 6, 3, 0, 4, 0, 0, 0, 0, 0, 0, 0, 0, 5, 3, 0, 0, 0, 0, 3, 4, 0,\n",
       "       0, 5, 5, 0, 5, 0, 0, 0, 0, 5, 5, 0, 0, 0, 0, 0, 0, 0, 0, 0, 0, 3,\n",
       "       2], dtype=int32)"
      ]
     },
     "execution_count": 18,
     "metadata": {},
     "output_type": "execute_result"
    }
   ],
   "source": [
    "kmeans[7].labels_"
   ]
  },
  {
   "cell_type": "code",
   "execution_count": 19,
   "metadata": {},
   "outputs": [
    {
     "name": "stderr",
     "output_type": "stream",
     "text": [
      "/Users/kyu.kim@ibm.com/anaconda3/lib/python3.7/site-packages/ipykernel_launcher.py:6: FutureWarning: set_value is deprecated and will be removed in a future release. Please use .at[] or .iat[] accessors instead\n",
      "  \n"
     ]
    }
   ],
   "source": [
    "distance = getDistanceByPoint(data, kmeans[7])\n",
    "number_of_outliers = int(outliers_fraction*len(distance))\n",
    "threshold = distance.nlargest(number_of_outliers).min()"
   ]
  },
  {
   "cell_type": "code",
   "execution_count": 46,
   "metadata": {},
   "outputs": [
    {
     "data": {
      "text/plain": [
       "(199,)"
      ]
     },
     "execution_count": 46,
     "metadata": {},
     "output_type": "execute_result"
    }
   ],
   "source": [
    "distance.shape"
   ]
  },
  {
   "cell_type": "code",
   "execution_count": 47,
   "metadata": {},
   "outputs": [
    {
     "data": {
      "text/plain": [
       "9"
      ]
     },
     "execution_count": 47,
     "metadata": {},
     "output_type": "execute_result"
    }
   ],
   "source": [
    "number_of_outliers"
   ]
  },
  {
   "cell_type": "code",
   "execution_count": 21,
   "metadata": {},
   "outputs": [
    {
     "data": {
      "text/plain": [
       "6.179739497683637"
      ]
     },
     "execution_count": 21,
     "metadata": {},
     "output_type": "execute_result"
    }
   ],
   "source": [
    "threshold"
   ]
  },
  {
   "cell_type": "code",
   "execution_count": 22,
   "metadata": {},
   "outputs": [],
   "source": [
    "#create new column called 'anomaly1', if ano, 1, if not 0\n",
    "anomaly1 = (distance >= threshold).astype(int)\n",
    "anomaly1 = anomaly1.to_list()\n",
    "cics_df['anomaly1'] = anomaly1"
   ]
  },
  {
   "cell_type": "code",
   "execution_count": 23,
   "metadata": {},
   "outputs": [
    {
     "data": {
      "text/plain": [
       "0    190\n",
       "1      9\n",
       "Name: anomaly1, dtype: int64"
      ]
     },
     "execution_count": 23,
     "metadata": {},
     "output_type": "execute_result"
    }
   ],
   "source": [
    "cics_df.anomaly1.value_counts()"
   ]
  },
  {
   "cell_type": "code",
   "execution_count": 24,
   "metadata": {},
   "outputs": [
    {
     "data": {
      "image/png": "[encoded data removed]",
      "text/plain": [
       "<Figure size 1440x432 with 1 Axes>"
      ]
     },
     "metadata": {
      "needs_background": "light"
     },
     "output_type": "display_data"
    }
   ],
   "source": [
    "#looks like Kclustering doesn't work. Maybe there are not enough data points\n",
    "fig, ax = plt.subplots(figsize=(20,6))\n",
    "a = cics_df.loc[cics_df['anomaly1'] == 1, ['ENDSTAMP', 'MSRESPTIME']] #anomaly\n",
    "\n",
    "ax.plot(cics_df['ENDSTAMP'], cics_df['MSRESPTIME'], color='blue', label='Normal')\n",
    "ax.scatter(a['ENDSTAMP'], a['MSRESPTIME'], color='red', label='anomaly')\n",
    "\n",
    "plt.xlabel('Time-series')\n",
    "plt.ylabel('Response Time')\n",
    "plt.legend()\n",
    "plt.show() "
   ]
  },
  {
   "cell_type": "code",
   "execution_count": 25,
   "metadata": {},
   "outputs": [],
   "source": [
    "#SVM\n",
    "from sklearn.svm import OneClassSVM\n",
    "\n",
    "# train oneclassSVM \n",
    "# need to define hyperparameter kernel(good to capture non linear data points) \n",
    "# gamma (how each each datasample influence the model) higher gamma, lower SD\n",
    "model = OneClassSVM(nu=outliers_fraction, kernel=\"rbf\", gamma=0.1)\n",
    "model.fit(data)\n",
    "cics_df['anomaly3']=pd.Series(model.predict(data)).to_list()\n"
   ]
  },
  {
   "cell_type": "code",
   "execution_count": 26,
   "metadata": {},
   "outputs": [
    {
     "data": {
      "image/png": "[encoded data removed]",
      "text/plain": [
       "<Figure size 720x432 with 1 Axes>"
      ]
     },
     "metadata": {
      "needs_background": "light"
     },
     "output_type": "display_data"
    }
   ],
   "source": [
    "fig, ax = plt.subplots(figsize=(10,6))\n",
    "a = cics_df.loc[cics_df['anomaly3'] == -1, ['ENDSTAMP', 'MSRESPTIME']] #anomaly\n",
    "\n",
    "ax.plot(cics_df['ENDSTAMP'], cics_df['MSRESPTIME'], color='blue')\n",
    "ax.scatter(a['ENDSTAMP'],a['MSRESPTIME'], color='red')\n",
    "plt.show();"
   ]
  },
  {
   "cell_type": "code",
   "execution_count": 27,
   "metadata": {},
   "outputs": [
    {
     "name": "stderr",
     "output_type": "stream",
     "text": [
      "/Users/kyu.kim@ibm.com/anaconda3/lib/python3.7/site-packages/sklearn/ensemble/iforest.py:247: FutureWarning: behaviour=\"old\" is deprecated and will be removed in version 0.22. Please use behaviour=\"new\", which makes the decision_function change to match other anomaly detection algorithm API.\n",
      "  FutureWarning)\n",
      "/Users/kyu.kim@ibm.com/anaconda3/lib/python3.7/site-packages/sklearn/ensemble/iforest.py:415: DeprecationWarning: threshold_ attribute is deprecated in 0.20 and will be removed in 0.22.\n",
      "  \" be removed in 0.22.\", DeprecationWarning)\n"
     ]
    },
    {
     "data": {
      "image/png": "[encoded data removed]",
      "text/plain": [
       "<Figure size 720x432 with 1 Axes>"
      ]
     },
     "metadata": {
      "needs_background": "light"
     },
     "output_type": "display_data"
    }
   ],
   "source": [
    "#Isolation Forest detects anomalies purely based on the fact \n",
    "#that anomalies are data points that are few and different. \n",
    "#The anomalies isolation is implemented without employing \n",
    "#any distance or density measure. This method is fundamentally \n",
    "#different from clustering based or distance based algorithms.\n",
    "\n",
    "# we can try isolation forest\n",
    "from sklearn.ensemble import IsolationForest\n",
    "\n",
    "#Isolation Forest Application\n",
    "model =  IsolationForest(contamination=outliers_fraction)\n",
    "model.fit(data) \n",
    "cics_df['anomaly2'] = pd.Series(model.predict(data)).to_list()\n",
    "\n",
    "fig, ax = plt.subplots(figsize=(10,6))\n",
    "a = cics_df.loc[cics_df['anomaly2'] == -1, ['ENDSTAMP', 'MSRESPTIME']] #anomaly\n",
    "ax.plot(cics_df['ENDSTAMP'], cics_df['MSRESPTIME'], color='blue', label = 'Normal')\n",
    "ax.scatter(a['ENDSTAMP'],a['MSRESPTIME'], color='red', label = 'Anomaly')\n",
    "plt.legend()\n",
    "plt.show();\n",
    "\n",
    "\n"
   ]
  },
  {
   "cell_type": "code",
   "execution_count": null,
   "metadata": {},
   "outputs": [],
   "source": []
  },
  {
   "cell_type": "code",
   "execution_count": null,
   "metadata": {},
   "outputs": [],
   "source": []
  }
 ],
 "metadata": {
  "kernelspec": {
   "display_name": "Python 3",
   "language": "python",
   "name": "python3"
  },
  "language_info": {
   "codemirror_mode": {
    "name": "ipython",
    "version": 3
   },
   "file_extension": ".py",
   "mimetype": "text/x-python",
   "name": "python",
   "nbconvert_exporter": "python",
   "pygments_lexer": "ipython3",
   "version": "3.7.3"
  }
 },
 "nbformat": 4,
 "nbformat_minor": 2
}
